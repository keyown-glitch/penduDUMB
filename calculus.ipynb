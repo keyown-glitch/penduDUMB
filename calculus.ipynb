{
  "nbformat": 4,
  "nbformat_minor": 0,
  "metadata": {
    "colab": {
      "provenance": [],
      "authorship_tag": "ABX9TyO4Y0mYVcVbLbK8XjLh5+a4",
      "include_colab_link": true
    },
    "kernelspec": {
      "name": "python3",
      "display_name": "Python 3"
    },
    "language_info": {
      "name": "python"
    }
  },
  "cells": [
    {
      "cell_type": "markdown",
      "metadata": {
        "id": "view-in-github",
        "colab_type": "text"
      },
      "source": [
        "<a href=\"https://colab.research.google.com/github/keyown-glitch/penduDUMB/blob/main/calculus.ipynb\" target=\"_parent\"><img src=\"https://colab.research.google.com/assets/colab-badge.svg\" alt=\"Open In Colab\"/></a>"
      ]
    },
    {
      "cell_type": "code",
      "execution_count": null,
      "metadata": {
        "colab": {
          "base_uri": "https://localhost:8080/"
        },
        "id": "GtTKkP_ibzFK",
        "outputId": "d9c71d68-bac5-45fc-b8f9-8d3f87cea77a"
      },
      "outputs": [
        {
          "output_type": "execute_result",
          "data": {
            "text/plain": [
              "2.718417747082924"
            ]
          },
          "metadata": {},
          "execution_count": 35
        }
      ],
      "source": [
        "import numpy as np\n",
        "\n",
        "def x(c):\n",
        "  return c\n",
        "\n",
        "def absx(c):\n",
        "  return np.abs(c)\n",
        "\n",
        "def xsq(c):\n",
        "  return c**2\n",
        "\n",
        "def sin(c):\n",
        "  return np.sin(c)\n",
        "\n",
        "def twopower(c):\n",
        "  return 2**x(c)\n",
        "\n",
        "def epower(c):\n",
        "  return np.exp(c)\n",
        "\n",
        "def integral(func, a, b, n):\n",
        "  delx = (b-a)/n\n",
        "  sum = func(a)*delx\n",
        "  for i in range(n-1):\n",
        "    sum += func(a + i*delx)*delx\n",
        "  return sum\n",
        "\n",
        "def derivative(func, a):\n",
        "  return (func(a + 0.0001) - func(a))/0.0001\n",
        "\n",
        "derivative(epower, 1)\n",
        "\n"
      ]
    }
  ]
}